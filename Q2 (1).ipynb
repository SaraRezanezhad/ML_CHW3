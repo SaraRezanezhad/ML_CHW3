{
  "cells": [
    {
      "cell_type": "markdown",
      "metadata": {
        "id": "51ThjjmUQnfC"
      },
      "source": [
        "<h1 align=\"center\">Introduction to Machine Learning - Course Code: 25737</h1>\n",
        "<h4 align=\"center\">Instructor: Dr. Amiri</h4>\n",
        "<h4 align=\"center\">Sharif University of Technology, Spring 2024</h4>\n",
        "<h4 align=\"center\">Computer Assignment 3</h4>\n",
        "<h4 align=\"center\">\n",
        "\n",
        "Question 2\n",
        "\n",
        "</h4>"
      ]
    },
    {
      "cell_type": "markdown",
      "metadata": {
        "id": "QitzpyMIQnfW"
      },
      "source": [
        "# Personal Data"
      ]
    },
    {
      "cell_type": "code",
      "execution_count": 95,
      "metadata": {
        "id": "KoQXXYkLQnfX"
      },
      "outputs": [],
      "source": [
        "# Set your student number\n",
        "student_number = 99101643\n",
        "Name = 'Sara'\n",
        "Last_Name = 'Rezanezhad'"
      ]
    },
    {
      "cell_type": "markdown",
      "metadata": {
        "id": "H1dEI8ssQnfY"
      },
      "source": [
        "# Rules\n",
        "- You are not allowed to add or remove cells. You **must use the provided space to write your code**. If you don't follow this rule, **your Practical Assignment won't be graded**.  \n",
        "\n",
        "- Collaboration and using the internet is allowed, but your code **must be written by yourself**. **Copying code** from each other or from available resources will result in a **zero score for the assignment**.\n",
        "\n",
        "- You are not allowed to use `torch.nn`, `torch.optim` and any activation function and loss function implemented in torch."
      ]
    },
    {
      "cell_type": "markdown",
      "metadata": {
        "id": "pH6LkHMEQnfZ"
      },
      "source": [
        "## Question 1) Convolutional Neural Networks ``(50 pt.)``\n",
        "\n",
        "In this question, you'll be coding up a convolutional neural network from scratch to classify images using PyTorch.  \n",
        "\n",
        "### Instructions\n",
        "- Install PyTorch following the instructions [here](https://pytorch.org/).\n",
        "- Install the [`torchinfo` package](https://github.com/TylerYep/torchinfo) to visualize the network architecture and the number of parameters. The maximum number of parameters you are allowed to use for your network is **100,000**.\n",
        "- You are required to complete the functions defined in the code blocks following each question. Fill out sections of the code marked `\"YOUR CODE HERE\"`.\n",
        "- You're free to add any number of methods within each class.\n",
        "- You may also add any number of additional code blocks that you deem necessary."
      ]
    },
    {
      "cell_type": "markdown",
      "metadata": {
        "id": "p09hyiPDQnfZ"
      },
      "source": [
        "### Data Preparation\n",
        "In this assignment, we will use the Fashion-MNIST dataset. Fashion-MNIST is a dataset of Zalando's article images—consisting of a training set of 60,000 examples and a test set of 10,000 examples. Each example is a 28x28 grayscale image, associated with a label from 10 classes.  \n",
        "\n",
        "#### Data\n",
        "\n",
        "Each image is 28 pixels in height and 28 pixels in width, for a total of 784 pixels in total. Each pixel has a single pixel-value associated with it, indicating the lightness or darkness of that pixel, with higher numbers meaning darker. This pixel-value is an integer between 0 and 255.  \n",
        "\n",
        "#### Labels\n",
        "\n",
        "Each training and test example is assigned to one of the following labels:\n",
        "\n",
        "| Label | Description |\n",
        "|-------|-------------|\n",
        "| 0     | T-shirt/top |\n",
        "| 1     | Trouser     |\n",
        "| 2     | Pullover    |\n",
        "| 3     | Dress       |\n",
        "| 4     | Coat        |\n",
        "| 5     | Sandal      |\n",
        "| 6     | Shirt       |\n",
        "| 7     | Sneaker     |\n",
        "| 8     | Bag         |\n",
        "| 9     | Ankle boot  |\n",
        "\n",
        "Fashion-MNIST is included in the `torchvision` library."
      ]
    },
    {
      "cell_type": "code",
      "execution_count": 96,
      "metadata": {
        "id": "gkabUAKsQnfa"
      },
      "outputs": [],
      "source": [
        "# Import required packages\n",
        "from torchvision.datasets import FashionMNIST\n",
        "from torchvision.transforms import Compose, ToTensor, Normalize\n",
        "import matplotlib.pyplot as plt\n",
        "import numpy as np\n"
      ]
    },
    {
      "cell_type": "code",
      "source": [
        "!pip install torchinfo"
      ],
      "metadata": {
        "colab": {
          "base_uri": "https://localhost:8080/"
        },
        "id": "WaILwnVvqQQC",
        "outputId": "eabfdca2-84ce-4455-bd9f-8f503ee8da5e"
      },
      "execution_count": 97,
      "outputs": [
        {
          "output_type": "stream",
          "name": "stdout",
          "text": [
            "Requirement already satisfied: torchinfo in /usr/local/lib/python3.10/dist-packages (1.8.0)\n"
          ]
        }
      ]
    },
    {
      "cell_type": "code",
      "execution_count": 98,
      "metadata": {
        "id": "_ZXw_iffQnfa"
      },
      "outputs": [],
      "source": [
        "# Transform to normalize the data and convert to a tensor\n",
        "transform = Compose([ToTensor(), Normalize((0.5,), (0.5,))])\n",
        "\n",
        "# Download the data\n",
        "dataset = FashionMNIST('MNIST_data/', download = True, train = True, transform = transform)"
      ]
    },
    {
      "cell_type": "markdown",
      "metadata": {
        "id": "SSDlNodVQnfa"
      },
      "source": [
        "### Data Exploration\n",
        "Let's take a look at the classes in our dataset."
      ]
    },
    {
      "cell_type": "code",
      "execution_count": 99,
      "metadata": {
        "colab": {
          "base_uri": "https://localhost:8080/"
        },
        "id": "hkXjXH4sQnfb",
        "outputId": "a1f360ea-6c42-4097-feb3-343fa9788c6a"
      },
      "outputs": [
        {
          "output_type": "stream",
          "name": "stdout",
          "text": [
            "['T-shirt/top', 'Trouser', 'Pullover', 'Dress', 'Coat', 'Sandal', 'Shirt', 'Sneaker', 'Bag', 'Ankle boot']\n"
          ]
        }
      ],
      "source": [
        "print(dataset.classes)"
      ]
    },
    {
      "cell_type": "markdown",
      "metadata": {
        "id": "UwSwXsluQnfb"
      },
      "source": [
        "Now, visualize an instance from each class."
      ]
    },
    {
      "cell_type": "code",
      "execution_count": 100,
      "metadata": {
        "colab": {
          "base_uri": "https://localhost:8080/",
          "height": 557
        },
        "id": "H-9-kYtvQnfb",
        "outputId": "5865e159-07d8-424a-9a32-21bce292f190"
      },
      "outputs": [
        {
          "output_type": "display_data",
          "data": {
            "text/plain": [
              "<Figure size 1200x600 with 10 Axes>"
            ],
            "image/png": "[encoded data removed]"
          },
          "metadata": {}
        }
      ],
      "source": [
        "# Get one random image from each class\n",
        "class_indices = [0, 1, 2, 3, 4, 5, 6, 7, 8, 9]\n",
        "random_images = []\n",
        "class_names = []\n",
        "for class_idx in class_indices:\n",
        "    class_samples = dataset.targets == class_idx\n",
        "    class_images = dataset.data[class_samples]\n",
        "    random_image_idx = np.random.randint(len(class_images))\n",
        "    random_image = class_images[random_image_idx]\n",
        "    random_images.append(random_image)\n",
        "\n",
        "# Create a 2x5 grid for displaying the images\n",
        "fig, axs = plt.subplots(2, 5, figsize=(12, 6))\n",
        "fig.suptitle(\"Instance from each class\")\n",
        "for i in range(10):\n",
        "  if i == 0 :\n",
        "      class_names.append(\"T-shirt/top\")\n",
        "  elif i == 1:\n",
        "     class_names.append(\"Trouser\")\n",
        "  elif i == 2:\n",
        "      class_names.append(\"Pullover\")\n",
        "  elif i == 3:\n",
        "      class_names.append(\"Dress\")\n",
        "  elif i == 4:\n",
        "      class_names.append(\"Coat\")\n",
        "  elif i == 5:\n",
        "      class_names.append(\"Sandal\")\n",
        "  elif i == 6:\n",
        "      class_names.append(\"Shirt\")\n",
        "  elif i == 7:\n",
        "      class_names.append(\"Sneaker\")\n",
        "  elif i == 8:\n",
        "     class_names.append(\"Bag\")\n",
        "  else:\n",
        "      class_names.append(\"Ankle boot\")\n",
        "\n",
        "for i, ax in enumerate(axs.flat):\n",
        "    ax.imshow(random_images [i], cmap='gray')\n",
        "    ax.set_title(class_names[i])\n",
        "\n",
        "plt.show()"
      ]
    },
    {
      "cell_type": "markdown",
      "metadata": {
        "id": "_AnMRxPVQnfc"
      },
      "source": [
        "### Creating Training and Validation Datasets\n",
        "\n",
        "The `split_indices` function takes in the size of the entire dataset, `n`, the fraction of data to be used as validation set, `val_frac`, and the random seed and returns the indices of the data points to be added to the validation dataset."
      ]
    },
    {
      "cell_type": "code",
      "execution_count": 101,
      "metadata": {
        "id": "r0z-172WQnfc"
      },
      "outputs": [],
      "source": [
        "def split_indices(n, val_frac, seed):\n",
        "    # Determine the size of the validation set\n",
        "    n_val = int(val_frac * n)\n",
        "    np.random.seed(seed)\n",
        "    # Create random permutation between 0 to n-1\n",
        "    idxs = np.random.permutation(n)\n",
        "    # Pick first n_val indices for validation set\n",
        "    return idxs[n_val:], idxs[:n_val]"
      ]
    },
    {
      "cell_type": "code",
      "execution_count": 102,
      "metadata": {
        "colab": {
          "base_uri": "https://localhost:8080/"
        },
        "id": "lAh_IRzuQnfc",
        "outputId": "ccbb6539-4c52-4d58-edc9-52d4ba208554"
      },
      "outputs": [
        {
          "output_type": "stream",
          "name": "stdout",
          "text": [
            "number of samples in training set: 48000\n",
            "number of samples in validation set: 12000\n"
          ]
        }
      ],
      "source": [
        "######################\n",
        "#   YOUR CODE HERE   #\n",
        "######################\n",
        "val_frac =  0.2\n",
        "rand_seed =  42\n",
        "\n",
        "train_indices, val_indices = split_indices(len(dataset), val_frac, rand_seed)\n",
        "print(\"number of samples in training set: {}\".format(len(train_indices)))\n",
        "print(\"number of samples in validation set: {}\".format(len(val_indices)))"
      ]
    },
    {
      "cell_type": "markdown",
      "metadata": {
        "id": "D5nkqa1nQnfd"
      },
      "source": [
        "Next, we make use of the built-in dataloaders in PyTorch to create iterables of our our training and validation sets. This helps in avoiding fitting the whole dataset into memory and only loads a batch of the data that we can decide."
      ]
    },
    {
      "cell_type": "code",
      "execution_count": 103,
      "metadata": {
        "id": "J-0HFWzTQnfd"
      },
      "outputs": [],
      "source": [
        "# Import required packages\n",
        "from torch.utils.data.sampler import SubsetRandomSampler\n",
        "from torch.utils.data.dataloader import DataLoader\n",
        "import torch\n"
      ]
    },
    {
      "cell_type": "code",
      "execution_count": 104,
      "metadata": {
        "id": "HMslmIccQnfd"
      },
      "outputs": [],
      "source": [
        "######################\n",
        "#   YOUR CODE HERE   #\n",
        "######################\n",
        "batch_size = 64\n",
        "\n",
        "# Training sampler and data loader\n",
        "train_sampler = SubsetRandomSampler(train_indices)\n",
        "train_dl = DataLoader(dataset,\n",
        "                     batch_size,\n",
        "                     sampler=train_sampler)\n",
        "\n",
        "# Validation sampler and data loader\n",
        "val_sampler = SubsetRandomSampler(val_indices)\n",
        "val_dl = DataLoader(dataset,\n",
        "                   batch_size,\n",
        "                   sampler=val_sampler)"
      ]
    },
    {
      "cell_type": "markdown",
      "metadata": {
        "id": "lvWhICmUQnfd"
      },
      "source": [
        "Plot images in a sample batch of data."
      ]
    },
    {
      "cell_type": "code",
      "source": [
        "def show_sample_batch(batch):\n",
        "    images, labels = batch\n",
        "    fig, axs = plt.subplots(4, 4, figsize=(8, 10))\n",
        "    fig.suptitle(\"Sample batch of data\")\n",
        "    for i in range(16):\n",
        "      row = i // 4\n",
        "      col = i % 4\n",
        "      image = images[i][0]\n",
        "      axs[row, col].imshow(image, cmap='gray')\n",
        "      axs[row, col].set_title(f\"Label: {labels[i]}\")\n",
        "plt.show()\n",
        "SampleBatch = next(iter(train_dl))\n",
        "show_sample_batch(SampleBatch)"
      ],
      "metadata": {
        "colab": {
          "base_uri": "https://localhost:8080/",
          "height": 914
        },
        "id": "dt4EyVlkklW5",
        "outputId": "f5dac45c-f761-4942-beb6-17629502dd00"
      },
      "execution_count": 105,
      "outputs": [
        {
          "output_type": "display_data",
          "data": {
            "text/plain": [
              "<Figure size 800x1000 with 16 Axes>"
            ],
            "image/png": "[encoded data removed]"
          },
          "metadata": {}
        }
      ]
    },
    {
      "cell_type": "markdown",
      "metadata": {
        "id": "6Z9of_rdQnfe"
      },
      "source": [
        "### Building the Model\n",
        "Create your model by defining the network architecture in the `ImageClassifierNet` class.<br>\n",
        "**NOTE:** The number of parameters in your network must be $\\leq$ 100,000."
      ]
    },
    {
      "cell_type": "code",
      "execution_count": 106,
      "metadata": {
        "id": "06-AGQrVQnfe"
      },
      "outputs": [],
      "source": [
        "# Import required packages\n",
        "import torch.nn as nn\n",
        "import torch.nn.functional as F\n",
        "from torchinfo import summary"
      ]
    },
    {
      "cell_type": "code",
      "execution_count": 107,
      "metadata": {
        "id": "UsW9oBAnQnfe"
      },
      "outputs": [],
      "source": [
        "class ImageClassifierNet(nn.Module):\n",
        "    def __init__(self, n_channels=1):\n",
        "        super(ImageClassifierNet, self).__init__()\n",
        "        self.conv1 = nn.Conv2d(n_channels, 8, kernel_size=3, stride=1, padding=1)\n",
        "        self.pool = nn.MaxPool2d(kernel_size=2, stride=2)\n",
        "        self.conv2 = nn.Conv2d(8, 16, kernel_size=3, stride=1, padding=1)\n",
        "        self.fc1 = nn.Linear(16 * 7 * 7, 64)\n",
        "        self.fc2 = nn.Linear(64, 10)  # 10 output classes for classification\n",
        "\n",
        "    def forward(self, X):\n",
        "        X = F.relu(self.conv1(X))\n",
        "        X = self.pool(X)\n",
        "        X = F.relu(self.conv2(X))\n",
        "        X = self.pool(X)\n",
        "        X = X.view(-1, 16 * 7 * 7)\n",
        "        X = F.relu(self.fc1(X))\n",
        "        X = self.fc2(X)\n",
        "        return X\n"
      ]
    },
    {
      "cell_type": "code",
      "execution_count": 108,
      "metadata": {
        "id": "UNlbO_zkQnfe"
      },
      "outputs": [],
      "source": [
        "model = ImageClassifierNet()"
      ]
    },
    {
      "cell_type": "markdown",
      "metadata": {
        "id": "cuF6Qx1WQnff"
      },
      "source": [
        "The following code block prints your network architecture. It also shows the total number of parameters in your network (see `Total params`).  \n",
        "\n",
        "**NOTE: The total number of parameters in your model should be <= 100,000.**"
      ]
    },
    {
      "cell_type": "code",
      "execution_count": 109,
      "metadata": {
        "colab": {
          "base_uri": "https://localhost:8080/"
        },
        "id": "WAApWfNXQnff",
        "outputId": "c473cfdb-7213-419d-e3ac-3b0a6d666559"
      },
      "outputs": [
        {
          "output_type": "execute_result",
          "data": {
            "text/plain": [
              "==========================================================================================\n",
              "Layer (type:depth-idx)                   Output Shape              Param #\n",
              "==========================================================================================\n",
              "ImageClassifierNet                       [64, 10]                  --\n",
              "├─Conv2d: 1-1                            [64, 8, 28, 28]           80\n",
              "├─MaxPool2d: 1-2                         [64, 8, 14, 14]           --\n",
              "├─Conv2d: 1-3                            [64, 16, 14, 14]          1,168\n",
              "├─MaxPool2d: 1-4                         [64, 16, 7, 7]            --\n",
              "├─Linear: 1-5                            [64, 64]                  50,240\n",
              "├─Linear: 1-6                            [64, 10]                  650\n",
              "==========================================================================================\n",
              "Total params: 52,138\n",
              "Trainable params: 52,138\n",
              "Non-trainable params: 0\n",
              "Total mult-adds (M): 21.92\n",
              "==========================================================================================\n",
              "Input size (MB): 0.20\n",
              "Forward/backward pass size (MB): 4.85\n",
              "Params size (MB): 0.21\n",
              "Estimated Total Size (MB): 5.26\n",
              "=========================================================================================="
            ]
          },
          "metadata": {},
          "execution_count": 109
        }
      ],
      "source": [
        "summary(model, input_size=(batch_size, 1, 28, 28))"
      ]
    },
    {
      "cell_type": "markdown",
      "metadata": {
        "id": "4_nYOWcPQnff"
      },
      "source": [
        "### Train the model\n",
        "Complete the `train_model` function to train your model on a dataset. Tune your network architecture and hyperparameters on the validation set."
      ]
    },
    {
      "cell_type": "code",
      "execution_count": 110,
      "metadata": {
        "id": "I1ISFFowQnff"
      },
      "outputs": [],
      "source": [
        "def train_model(n_epochs, model, train_dl, val_dl, loss_fn, opt_fn, lr):\n",
        "    \"\"\"\n",
        "    Trains the model on a dataset.\n",
        "\n",
        "    Args:\n",
        "        n_epochs: number of epochs\n",
        "        model: ImageClassifierNet object\n",
        "        train_dl: training dataloader\n",
        "        val_dl: validation dataloader\n",
        "        loss_fn: the loss function\n",
        "        opt_fn: the optimizer\n",
        "        lr: learning rate\n",
        "\n",
        "    Returns:\n",
        "        The trained model.\n",
        "        A tuple of (model, train_losses, val_losses, train_accuracies, val_accuracies)\n",
        "    \"\"\"\n",
        "    # Record these values the end of each epoch\n",
        "    train_losses, val_losses, train_accuracies, val_accuracies = [], [], [], []\n",
        "\n",
        "    for epoch in range(n_epochs):\n",
        "        model.train()\n",
        "        total_train_loss = 0.0\n",
        "        correct_train = 0\n",
        "        total_train = 0\n",
        "\n",
        "        for X_train, y_train in train_dl:\n",
        "            opt_fn.zero_grad()\n",
        "            output = model(X_train)\n",
        "            loss = loss_fn(output, y_train)\n",
        "            loss.backward()\n",
        "            opt_fn.step()\n",
        "\n",
        "            total_train_loss += loss.item()\n",
        "            _, predicted = torch.max(output, 1)\n",
        "            total_train += y_train.size(0)\n",
        "            correct_train += (predicted == y_train).sum().item()\n",
        "\n",
        "        train_losses.append(total_train_loss / len(train_dl))\n",
        "        train_acc = correct_train / total_train\n",
        "        train_accuracies.append(train_acc)\n",
        "\n",
        "    if len(val_dl) > 0:\n",
        "        model.eval()\n",
        "        val_loss = 0.0\n",
        "        correct_val = 0\n",
        "        total_val = 0\n",
        "        for X_val, y_val in val_dl:\n",
        "                  output = model(X_val)\n",
        "                  loss = loss_fn(output, y_val)\n",
        "\n",
        "        val_loss += loss.item()\n",
        "        _, predicted = torch.max(output, 1)\n",
        "        total_val += y_val.size(0)\n",
        "        correct_val += (predicted == y_val).sum().item()\n",
        "\n",
        "        val_losses.append(val_loss / len(val_dl))\n",
        "        val_acc = correct_val / total_val\n",
        "        val_accuracies.append(val_acc)\n",
        "\n",
        "        print(f'Epoch {epoch + 1}/{n_epochs}, Train Loss: {train_losses[-1]:.4f}, Train Acc: {train_accuracies[-1]:.4f}, Val Loss: {val_losses[-1]:.4f}, Val Acc: {val_accuracies[-1]:.4f}')\n",
        "\n",
        "\n",
        "    return model, train_losses, val_losses, train_accuracies, val_accuracies"
      ]
    },
    {
      "cell_type": "code",
      "execution_count": 111,
      "metadata": {
        "id": "97AIX6J3Qnff"
      },
      "outputs": [],
      "source": [
        "num_epochs = 10\n",
        "loss_fn = nn.CrossEntropyLoss()\n",
        "opt_fn = torch.optim.Adam(model.parameters(), lr=0.001)\n",
        "lr = 0.001"
      ]
    },
    {
      "cell_type": "code",
      "execution_count": 112,
      "metadata": {
        "colab": {
          "base_uri": "https://localhost:8080/"
        },
        "id": "a4Y1ejhRQnff",
        "outputId": "87adfeb2-4365-4127-f7c0-e6cd198f2b96"
      },
      "outputs": [
        {
          "output_type": "stream",
          "name": "stdout",
          "text": [
            "Epoch 10/10, Train Loss: 0.2147, Train Acc: 0.9205, Val Loss: 0.0013, Val Acc: 0.9062\n"
          ]
        }
      ],
      "source": [
        "model, train_losses, val_losses, train_accuracies, val_accuracies = train_model(num_epochs, model, train_dl, val_dl, loss_fn, opt_fn, lr)"
      ]
    },
    {
      "cell_type": "markdown",
      "metadata": {
        "id": "iL2BaawNQnfg"
      },
      "source": [
        "### Plot loss and accuracy"
      ]
    },
    {
      "cell_type": "code",
      "execution_count": 113,
      "metadata": {
        "id": "exyoOnlmQnfg"
      },
      "outputs": [],
      "source": [
        "def plot_accuracy(train_accuracies, val_accuracies):\n",
        "    \"\"\"Plot accuracies\"\"\"\n",
        "    plt.plot(train_accuracies, \"-x\")\n",
        "    plt.plot(val_accuracies, \"-o\")\n",
        "    plt.xlabel(\"Epoch\")\n",
        "    plt.ylabel(\"Accuracy\")\n",
        "    plt.legend([\"Training\", \"Validation\"])\n",
        "    plt.title(\"Accuracy vs. No. of epochs\")\n",
        "\n",
        "def plot_losses(train_losses, val_losses):\n",
        "    \"\"\"Plot losses\"\"\"\n",
        "    plt.plot(train_losses, \"-x\")\n",
        "    plt.plot(val_losses, \"-o\")\n",
        "    plt.xlabel(\"Epoch\")\n",
        "    plt.ylabel(\"Loss\")\n",
        "    plt.legend([\"Training\", \"Validation\"])\n",
        "    plt.title(\"Loss vs. No. of Epochs\")"
      ]
    },
    {
      "cell_type": "code",
      "execution_count": 114,
      "metadata": {
        "colab": {
          "base_uri": "https://localhost:8080/",
          "height": 472
        },
        "id": "jJuWSEfSQnfg",
        "outputId": "c6adbc3b-f72e-4e80-9d76-18c306adf6e7"
      },
      "outputs": [
        {
          "output_type": "display_data",
          "data": {
            "text/plain": [
              "<Figure size 640x480 with 1 Axes>"
            ],
            "image/png": "[encoded data removed]"
          },
          "metadata": {}
        }
      ],
      "source": [
        "plot_accuracy(train_accuracies, val_accuracies)\n",
        "plot_losses(train_losses, val_losses)"
      ]
    },
    {
      "cell_type": "markdown",
      "metadata": {
        "id": "wLeIjy-KQnfg"
      },
      "source": [
        "### Train a model on the entire dataset"
      ]
    },
    {
      "cell_type": "code",
      "execution_count": 115,
      "metadata": {
        "id": "HQg-4eWSQnfg"
      },
      "outputs": [],
      "source": [
        "indices, _ = split_indices(len(dataset), 0, rand_seed)\n",
        "\n",
        "sampler = SubsetRandomSampler(indices)\n",
        "dl = DataLoader(dataset, batch_size, sampler=sampler)"
      ]
    },
    {
      "cell_type": "code",
      "execution_count": 116,
      "metadata": {
        "id": "qnVEzaf2Qnfh"
      },
      "outputs": [],
      "source": [
        "import torch.optim as optim\n",
        "num_epochs = 10\n",
        "loss_fn = nn.CrossEntropyLoss()\n",
        "opt_fn = optim.Adam(model.parameters(), lr=0.001)\n",
        "lr = 0.001"
      ]
    },
    {
      "cell_type": "code",
      "execution_count": 117,
      "metadata": {
        "id": "nhrGN6lXQnfh"
      },
      "outputs": [],
      "source": [
        "model, _, _, _, _ = train_model(num_epochs, model, dl, [], loss_fn, opt_fn, lr)"
      ]
    },
    {
      "cell_type": "markdown",
      "metadata": {
        "id": "NssuXkQKQnfh"
      },
      "source": [
        "### Check Predictions\n",
        "Now, you should evaluate your model on dataset. Specifically, you should calculate the class probabilities for each image, and then visualize these probabilities along with the image itself. Please include a function `view_prediction` in your code that takes an image, its label, the calculated probabilities, and the list of class names as input, and plots the image along with the probabilities."
      ]
    },
    {
      "cell_type": "code",
      "execution_count": 118,
      "metadata": {
        "id": "E-Noer75Qnfh"
      },
      "outputs": [],
      "source": [
        "def view_prediction(image, label, probs, class_names):\n",
        "  plt.imshow(image.numpy().squeeze(), cmap='gray')\n",
        "  plt.title(class_names[label])\n",
        "  plt.figure()\n",
        "  plt.barh(np.arange(len(class_names)), probs)\n",
        "  plt.yticks(np.arange(len(class_names)), class_names)\n",
        "  plt.xlabel('Probability')\n",
        "  plt.show()\n"
      ]
    },
    {
      "cell_type": "markdown",
      "metadata": {
        "id": "6j4HMtkaQnfi"
      },
      "source": [
        "### Save the model"
      ]
    },
    {
      "cell_type": "code",
      "execution_count": 119,
      "metadata": {
        "id": "gQpertlFQnfj"
      },
      "outputs": [],
      "source": [
        "torch.save(model, 'model')"
      ]
    },
    {
      "cell_type": "markdown",
      "metadata": {
        "id": "k1BhksknQnfj"
      },
      "source": [
        "### Calculate accuracy on the test set"
      ]
    },
    {
      "cell_type": "code",
      "execution_count": 120,
      "metadata": {
        "id": "NRZluZr5Qnfj"
      },
      "outputs": [],
      "source": [
        "test_dataset = FashionMNIST('MNIST_data/', download = True, train = False, transform = transform)\n",
        "test_dl = DataLoader(test_dataset, batch_size)"
      ]
    },
    {
      "cell_type": "code",
      "execution_count": 121,
      "metadata": {
        "id": "CBH8WBLrQnfj"
      },
      "outputs": [],
      "source": [
        "def evaluate(model, test_dl):\n",
        "    \"\"\"\n",
        "    Evaluates your model on the test data.\n",
        "\n",
        "    Args:\n",
        "        model: ImageClassifierNet object\n",
        "        test_dl: test dataloader\n",
        "\n",
        "    Returns:\n",
        "        Test accuracy.\n",
        "    \"\"\"\n",
        "    model.eval()\n",
        "    total = 0\n",
        "    correct = 0\n",
        "\n",
        "    for X_test, y_test in test_dl:\n",
        "        outputs = model(X_test)\n",
        "        _, predicted = torch.max(outputs, 1)\n",
        "        correct += (predicted == y_test).sum().item()\n",
        "        total += y_test.size(0)\n",
        "\n",
        "    test_accuracy = correct / total\n",
        "    return test_accuracy\n",
        "\n",
        "# Evaluate the model on the test data\n",
        "test_accuracy = evaluate(model, test_dl)"
      ]
    },
    {
      "cell_type": "code",
      "execution_count": 122,
      "metadata": {
        "colab": {
          "base_uri": "https://localhost:8080/"
        },
        "id": "VhNEgzqEQnfj",
        "outputId": "b2ef95ab-acdc-4786-fe5e-d3db47061e46"
      },
      "outputs": [
        {
          "output_type": "stream",
          "name": "stdout",
          "text": [
            "Test Accuracy = 0.9002\n"
          ]
        }
      ],
      "source": [
        "print(\"Test Accuracy = {:.4f}\".format(evaluate(model, test_dl)))"
      ]
    }
  ],
  "metadata": {
    "kernelspec": {
      "display_name": "Python 3",
      "language": "python",
      "name": "python3"
    },
    "language_info": {
      "codemirror_mode": {
        "name": "ipython",
        "version": 3
      },
      "file_extension": ".py",
      "mimetype": "text/x-python",
      "name": "python",
      "nbconvert_exporter": "python",
      "pygments_lexer": "ipython3",
      "version": "3.12.1"
    },
    "colab": {
      "provenance": []
    }
  },
  "nbformat": 4,
  "nbformat_minor": 0
}